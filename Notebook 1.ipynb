{
 "cells": [
  {
   "cell_type": "markdown",
   "metadata": {},
   "source": [
    "<u> # Linear Regression </u>"
   ]
  },
  {
   "cell_type": "markdown",
   "metadata": {},
   "source": [
    "# Definition\n",
    "<b>Regresi (Regression)</b> adalah sebuah pengukuran dari relasi antara satu variabel Output dan variabel yang berkaitan lainnya (contoh: waktu, harga).\n",
    "\n",
    "<b>Linear Regression</b> adalah sebuah pendekatan untuk memodelkan hubungan antara satu variable terikat (dependent variable) <b>Y</b> dan satu atau lebih variable bebas (independent variable) yang disebut <b>X</b>."
   ]
  },
  {
   "cell_type": "markdown",
   "metadata": {},
   "source": [
    "# Types of Linear Regression\n",
    "<b> Simple Linear Regression </b><br>\n",
    "1 dependent variable (interval or ratio), 1 independent variable (interval or ratio or dichotomous)<br><br>\n",
    "<b> Multiple Linear Regression </b><br>\n",
    "1 dependent variable (interval or ratio) , 2+ independent variables (interval or ratio or dichotomous)<br><br>\n",
    "<b> Logistic Linear Regression </b><br>\n",
    "1 dependent variable (dichotomous), 2+ independent variable(s) (interval or ratio or dichotomous)<br><br>\n",
    "<b> Ordinal Regression </b><br>\n",
    "1 dependent variable (ordinal), 1+ independent variable(s) (nominal or dichotomous)<br><br>\n",
    "<b> Multinominal Regression </b><br>\n",
    "1 dependent variable (nominal), 1+ independent variable(s) (interval or ratio or dichotomous)<br><br>\n",
    "<b> Discriminant Analysis </b><br>\n",
    "1 dependent variable (nominal), 1+ independent variable(s) (interval or ratio)<br><br>"
   ]
  },
  {
   "cell_type": "markdown",
   "metadata": {},
   "source": [
    " \\* Yang akan dibahas dalam Notebook ini adalah <b> Simple Linear Regression </b> dan <b> Multiple Linear Regression </b>"
   ]
  },
  {
   "cell_type": "markdown",
   "metadata": {},
   "source": [
    "## Simple Linear Regression"
   ]
  },
  {
   "cell_type": "markdown",
   "metadata": {},
   "source": [
    "## Multiple Linear Regression"
   ]
  }
 ],
 "metadata": {
  "kernelspec": {
   "display_name": "Python 3",
   "language": "python",
   "name": "python3"
  },
  "language_info": {
   "codemirror_mode": {
    "name": "ipython",
    "version": 3
   },
   "file_extension": ".py",
   "mimetype": "text/x-python",
   "name": "python",
   "nbconvert_exporter": "python",
   "pygments_lexer": "ipython3",
   "version": "3.7.0"
  }
 },
 "nbformat": 4,
 "nbformat_minor": 2
}
